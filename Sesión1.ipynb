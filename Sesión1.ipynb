{
  "nbformat": 4,
  "nbformat_minor": 0,
  "metadata": {
    "colab": {
      "name": "Sesión1",
      "provenance": [],
      "authorship_tag": "ABX9TyPiShi5jr6rIRZMhDqR4GUL",
      "include_colab_link": true
    },
    "kernelspec": {
      "name": "python3",
      "display_name": "Python 3"
    }
  },
  "cells": [
    {
      "cell_type": "markdown",
      "metadata": {
        "id": "view-in-github",
        "colab_type": "text"
      },
      "source": [
        "<a href=\"https://colab.research.google.com/github/LeonarZuma/PostworkPython/blob/main/Sesi%C3%B3n1.ipynb\" target=\"_parent\"><img src=\"https://colab.research.google.com/assets/colab-badge.svg\" alt=\"Open In Colab\"/></a>"
      ]
    },
    {
      "cell_type": "markdown",
      "metadata": {
        "id": "dIUn7eqGwWTC"
      },
      "source": [
        "#Título\r\n",
        "##Título 2\r\n",
        "###Título 3\r\n",
        "Hola a todos\r\n"
      ]
    },
    {
      "cell_type": "code",
      "metadata": {
        "colab": {
          "base_uri": "https://localhost:8080/"
        },
        "id": "aCsweocKvrD7",
        "outputId": "9164afd2-3f7d-402d-85c5-ea8b37d25e13"
      },
      "source": [
        "print(\"Hello world!\")"
      ],
      "execution_count": 3,
      "outputs": [
        {
          "output_type": "stream",
          "text": [
            "Hello world!\n"
          ],
          "name": "stdout"
        }
      ]
    },
    {
      "cell_type": "code",
      "metadata": {
        "id": "g5ulKJN5wzG1"
      },
      "source": [
        "#Comentario XD\r\n",
        "#Lo común es usar el símbolo de gato por línea"
      ],
      "execution_count": 4,
      "outputs": []
    },
    {
      "cell_type": "markdown",
      "metadata": {
        "id": "zWBs1bBHxbtn"
      },
      "source": [
        "#Variables y sus tipos"
      ]
    },
    {
      "cell_type": "code",
      "metadata": {
        "colab": {
          "base_uri": "https://localhost:8080/"
        },
        "id": "PT17D8Uqxf5g",
        "outputId": "ae31121d-bece-4a65-b20f-9d027147a15a"
      },
      "source": [
        "var_1 = 5;\r\n",
        "var_2 = 7;\r\n",
        "var_1 - var_2\r\n",
        "var_1 + var_2"
      ],
      "execution_count": 11,
      "outputs": [
        {
          "output_type": "execute_result",
          "data": {
            "text/plain": [
              "12"
            ]
          },
          "metadata": {
            "tags": []
          },
          "execution_count": 11
        }
      ]
    },
    {
      "cell_type": "code",
      "metadata": {
        "colab": {
          "base_uri": "https://localhost:8080/"
        },
        "id": "B7BYPHfuxqKs",
        "outputId": "cec9b44e-1dec-49e7-a32e-6653055ddf82"
      },
      "source": [
        "var_1 = var_2 * 3\r\n",
        "var_1"
      ],
      "execution_count": 13,
      "outputs": [
        {
          "output_type": "execute_result",
          "data": {
            "text/plain": [
              "21"
            ]
          },
          "metadata": {
            "tags": []
          },
          "execution_count": 13
        }
      ]
    },
    {
      "cell_type": "markdown",
      "metadata": {
        "id": "XqSNrBT9yIbm"
      },
      "source": [
        "#Ya estamos Listo para el primero RETO\r\n",
        "\r\n",
        "```python\r\n",
        "print(\"Mi código de Python\");\r\n",
        "var=5;\r\n",
        "```"
      ]
    },
    {
      "cell_type": "code",
      "metadata": {
        "id": "9t8CGZRYyMn8"
      },
      "source": [
        ""
      ],
      "execution_count": null,
      "outputs": []
    }
  ]
}